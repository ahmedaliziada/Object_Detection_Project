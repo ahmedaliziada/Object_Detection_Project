{
 "cells": [
  {
   "cell_type": "code",
   "execution_count": 1,
   "id": "24e839d5-1201-4585-9180-67d8954bd9b8",
   "metadata": {},
   "outputs": [],
   "source": [
    "#!pip install -q mediapipe"
   ]
  },
  {
   "cell_type": "code",
   "execution_count": 7,
   "id": "21a8b767-49be-42e6-8852-6290d9c30ba7",
   "metadata": {},
   "outputs": [
    {
     "name": "stdout",
     "output_type": "stream",
     "text": [
      "Overwriting ObjectDetection.py\n"
     ]
    }
   ],
   "source": [
    "%%writefile ObjectDetection.py\n",
    "import streamlit as st\n",
    "import cv2\n",
    "import numpy as np\n",
    "import mediapipe as mp\n",
    "from mediapipe.tasks import python\n",
    "from mediapipe.tasks.python import vision\n",
    "\n",
    "st.title('Object Detection Application')\n",
    "uploaded_image = st.file_uploader('Please, Upload an Image', type = ['jpg', 'png', 'jpeg'])\n",
    "\n",
    "MARGIN = 10  # pixels\n",
    "ROW_SIZE = 10  # pixels\n",
    "FONT_SIZE = 1\n",
    "FONT_THICKNESS = 1\n",
    "TEXT_COLOR = (255, 0, 0)  # red\n",
    "\n",
    "#from mediapipe\n",
    "def visualize(image, detection_result) -> np.ndarray:\n",
    "\n",
    "  for detection in detection_result.detections:\n",
    "    # Draw bounding_box\n",
    "    bbox = detection.bounding_box\n",
    "    start_point = bbox.origin_x, bbox.origin_y\n",
    "    end_point = bbox.origin_x + bbox.width, bbox.origin_y + bbox.height\n",
    "    cv2.rectangle(image, start_point, end_point, TEXT_COLOR, 3)\n",
    "\n",
    "    # Draw label and score\n",
    "    category = detection.categories[0]\n",
    "    category_name = category.category_name\n",
    "    probability = round(category.score, 2)\n",
    "    result_text = category_name + ' (' + str(probability) + ')'\n",
    "    text_location = (MARGIN + bbox.origin_x,\n",
    "                     MARGIN + ROW_SIZE + bbox.origin_y)\n",
    "    cv2.putText(image, result_text, text_location, cv2.FONT_HERSHEY_PLAIN,\n",
    "                FONT_SIZE, TEXT_COLOR, FONT_THICKNESS)\n",
    "\n",
    "  return image\n",
    "\n",
    "# STEP 2: Create an ObjectDetector object.\n",
    "base_options = python.BaseOptions(model_asset_path=\"C:/Users/HP/Downloads/efficientdet_lite0.tflite\")\n",
    "options = vision.ObjectDetectorOptions(base_options=base_options,\n",
    "                                       score_threshold=0.5)\n",
    "detector = vision.ObjectDetector.create_from_options(options)\n",
    "\n",
    "#my code\n",
    "if uploaded_image is not None:\n",
    "    file_bytes = np.asarray(bytearray(uploaded_image.read()), dtype = np.uint8)\n",
    "    img = cv2.imdecode(file_bytes,1)\n",
    "    img = cv2.cvtColor(img, cv2.COLOR_BGR2RGB) \n",
    "\n",
    "    st.image(img, 'Uploaded Image', use_column_width  = True)\n",
    "\n",
    "    mp_image = mp.Image(image_format = mp.ImageFormat.SRGB, data = img)\n",
    "    #from media pipe\n",
    "    # STEP 4: Detect objects in the input image.\n",
    "    detection_result = detector.detect(mp_image)\n",
    "    #visualize result\n",
    "    annotated_image = visualize(img, detection_result)\n",
    "\n",
    "    st.image(annotated_image, use_column_width  = True)"
   ]
  },
  {
   "cell_type": "code",
   "execution_count": null,
   "id": "9b7ed471-3070-433c-ac81-e7349b1ece52",
   "metadata": {},
   "outputs": [],
   "source": []
  }
 ],
 "metadata": {
  "kernelspec": {
   "display_name": "Python 3 (ipykernel)",
   "language": "python",
   "name": "python3"
  },
  "language_info": {
   "codemirror_mode": {
    "name": "ipython",
    "version": 3
   },
   "file_extension": ".py",
   "mimetype": "text/x-python",
   "name": "python",
   "nbconvert_exporter": "python",
   "pygments_lexer": "ipython3",
   "version": "3.12.4"
  }
 },
 "nbformat": 4,
 "nbformat_minor": 5
}
